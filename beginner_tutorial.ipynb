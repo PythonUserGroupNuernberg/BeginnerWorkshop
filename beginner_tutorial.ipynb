{
 "cells": [
  {
   "cell_type": "markdown",
   "metadata": {},
   "source": [
    "# Python beginners workshop\n",
    "\n",
    "hello and welcome to the python user group beginners workshop with jupyter notebooks. You can write your code into the coding boxes. To execute code, click on the code box and press Strg+Enter. (or the play-button above)\n",
    "\n",
    "In order to make code more readable, most programming languages have a style guide. Before writing serious code, make yourself familiar with the style guide for python here: \n",
    "https://google.github.io/styleguide/pyguide.html\n",
    "\n",
    "## output \n",
    "\n",
    "we start with the canonical \"hello world\" example, as in every programming language tutorial.\n",
    "Printing output to the console in python is very easy. Just use the __print__ command"
   ]
  },
  {
   "cell_type": "code",
   "execution_count": 11,
   "metadata": {
    "collapsed": false
   },
   "outputs": [
    {
     "name": "stdout",
     "output_type": "stream",
     "text": [
      "hello world\n"
     ]
    }
   ],
   "source": [
    "# for commenting use #\n",
    "print \"hello world\""
   ]
  },
  {
   "cell_type": "markdown",
   "metadata": {},
   "source": [
    "if you feel very helpless, just call for help. (type \"quit\" into the search field to leave the help)"
   ]
  },
  {
   "cell_type": "code",
   "execution_count": 12,
   "metadata": {
    "collapsed": false
   },
   "outputs": [
    {
     "name": "stdout",
     "output_type": "stream",
     "text": [
      "\n",
      "Welcome to Python 2.7!  This is the online help utility.\n",
      "\n",
      "If this is your first time using Python, you should definitely check out\n",
      "the tutorial on the Internet at http://docs.python.org/2.7/tutorial/.\n",
      "\n",
      "Enter the name of any module, keyword, or topic to get help on writing\n",
      "Python programs and using Python modules.  To quit this help utility and\n",
      "return to the interpreter, just type \"quit\".\n",
      "\n",
      "To get a list of available modules, keywords, or topics, type \"modules\",\n",
      "\"keywords\", or \"topics\".  Each module also comes with a one-line summary\n",
      "of what it does; to list the modules whose summaries contain a given word\n",
      "such as \"spam\", type \"modules spam\".\n",
      "\n",
      "help> quit\n",
      "\n",
      "You are now leaving help and returning to the Python interpreter.\n",
      "If you want to ask for help on a particular object directly from the\n",
      "interpreter, you can type \"help(object)\".  Executing \"help('string')\"\n",
      "has the same effect as typing a particular string at the help> prompt.\n"
     ]
    }
   ],
   "source": [
    "help()"
   ]
  },
  {
   "cell_type": "markdown",
   "metadata": {},
   "source": [
    "## variables and data types\n",
    "\n",
    "Python knows the following data types: \n",
    "**string, numerical, list, tuple and dictionary. **\n",
    "python automatically assigns a type to the variable. Python is dynamically typed.\n",
    "Choose any name for your variables you like. However, it's good style to name them in a meaningful way.\n",
    "Do not choose any of these reserved keywords as variable names:\n",
    "\n",
    "and       del       from      not       while    \n",
    "as        elif      global    or        with     \n",
    "assert    else      if        pass      yield    \n",
    "break     except    import    print              \n",
    "class     exec      in        raise              \n",
    "continue  finally   is        return             \n",
    "def       for       lambda    try   \n",
    "(https://docs.python.org/2/reference/lexical_analysis.html)\n",
    "#### Exercise:\n",
    "try to initiate variables of different types. Can you initialte variables of type string (str), float, integer (int), boolean (bool) ? "
   ]
  },
  {
   "cell_type": "code",
   "execution_count": 148,
   "metadata": {
    "collapsed": false
   },
   "outputs": [
    {
     "name": "stdout",
     "output_type": "stream",
     "text": [
      "hello my name is anna  - welcome to the python tutorial!\n",
      "<type 'float'> <type 'int'> <type 'bool'> <type 'str'>\n"
     ]
    }
   ],
   "source": [
    "# initiate a variable by setting it equal to some value or string. Strings are enclosed by \"\" or ''. \n",
    "myname = \"anna\" \n",
    "# you can concatenate strings and variables with comma for printing (in python 2.7, python 3 is a bit stricter)\n",
    "print \"hello my name is\", myname, \" - welcome to the python tutorial!\"  # just in case I forgot to introduce myself ;)\n",
    "type(myname)  # find out about the type of a variable\n"
   ]
  },
  {
   "cell_type": "markdown",
   "metadata": {},
   "source": [
    "### Numerical variables\n",
    "Numerical variables can have different formats. Integer, float, long, complex. We will only look at integer and floating point numbers. Python will automatically assign a reasonable type. But the type can also be changed.\n",
    "\n",
    "#### Exercise:\n",
    "check the type of the given variables. What do you expect? What happens if you change the type? print the variables and their corresponding type. Can you change string variables to numerical variables? "
   ]
  },
  {
   "cell_type": "code",
   "execution_count": 219,
   "metadata": {
    "collapsed": false
   },
   "outputs": [],
   "source": [
    "wort1 = 'hallo'\n",
    "zahl1 = 123\n",
    "zahl2 = 123.4\n",
    "zahl3 = int(zahl2)  # transforms variable zahl2 to type integer\n",
    "zahl4 = float(zahl1)\n",
    "wort2 = str(zahl2)\n"
   ]
  },
  {
   "cell_type": "markdown",
   "metadata": {},
   "source": [
    "#### Excursion for python 2.7:\n",
    "Be careful, in python 2.7 integer division results in integers. This is not always the result we want. However, if one of the variables in the operation is float, the result will be float. We can cast the variables to float. When the floating point number is cast to integer, the closest lower integer is taken. This is not always the closest. => rounding error\n",
    "Try out other operations:  + - / \\*  \\** \n"
   ]
  },
  {
   "cell_type": "code",
   "execution_count": 27,
   "metadata": {
    "collapsed": false
   },
   "outputs": [
    {
     "name": "stdout",
     "output_type": "stream",
     "text": [
      " 24\n",
      "24.6\n"
     ]
    }
   ],
   "source": [
    "zahl = 246\n",
    "bruch = zahl/10\n",
    "print bruch\n",
    "bruch = float(zahl)/10\n",
    "print bruch"
   ]
  },
  {
   "cell_type": "markdown",
   "metadata": {},
   "source": [
    "### string\n",
    "\n",
    "A string is similar to a list of characters. We will treat lists later.  \n",
    "Every single character can be accessed.\n",
    "The first character sits on position 0, the second character on position 1. If the string has length N, the last character has position N-1.\n",
    "We can also access characters counting from the back of the string. The last one has position -1, the second last -2 etc."
   ]
  },
  {
   "cell_type": "code",
   "execution_count": 135,
   "metadata": {
    "collapsed": false
   },
   "outputs": [
    {
     "name": "stdout",
     "output_type": "stream",
     "text": [
      "length of string is 19\n",
      "the last character is n\n",
      "n\n"
     ]
    }
   ],
   "source": [
    "mystring = \"schwertfischflossen\"\n",
    "N = len(mystring)\n",
    "print \"length of string is\", N\n",
    "print \"the last character is\", mystring[N-1]\n",
    "print mystring[-1]"
   ]
  },
  {
   "cell_type": "markdown",
   "metadata": {},
   "source": [
    "#### Exercise\n",
    "try accessing all the vowels in the following string"
   ]
  },
  {
   "cell_type": "code",
   "execution_count": 151,
   "metadata": {
    "collapsed": false
   },
   "outputs": [
    {
     "name": "stdout",
     "output_type": "stream",
     "text": [
      "e\n",
      "e i o e\n"
     ]
    }
   ],
   "source": [
    "mystring = \"schwertfischflossen\"\n",
    "print mystring[-2]"
   ]
  },
  {
   "cell_type": "markdown",
   "metadata": {},
   "source": [
    "You can also access substrings using a range of positions, i.e. for accessing the 3rd,4th and 5th letter, use [2:5].\n",
    "Note that the last position of the range is excluded.\n",
    "Try to understand what the code below will return before executing it. Try accessing single letters and substrings at different positions. For example, access 'zog' and 'Her' in the last string."
   ]
  },
  {
   "cell_type": "code",
   "execution_count": 16,
   "metadata": {
    "collapsed": false
   },
   "outputs": [
    {
     "name": "stdout",
     "output_type": "stream",
     "text": [
      "No Bug here\n"
     ]
    }
   ],
   "source": [
    "mysentence = \"Norbert legte die Schere auf den Bug\"\n",
    "print mysentence[:2], mysentence[-3:], mysentence[20:24]\n",
    "sent = \"Der Herzog\""
   ]
  },
  {
   "cell_type": "markdown",
   "metadata": {},
   "source": [
    "Python prints numerical values just as well as strings without the need of prior transformations. \n",
    "\n",
    "#### Exercise:\n",
    "What happens if you add a numeric variable to a string of numbers? What if you cast the string to integer first? Or if you cast the integer to string? "
   ]
  },
  {
   "cell_type": "code",
   "execution_count": 220,
   "metadata": {
    "collapsed": false
   },
   "outputs": [],
   "source": [
    "myvar = 42\n",
    "mystring = '57'\n",
    "#print myvar, '+', mystring, '=', myvar + mystring"
   ]
  },
  {
   "cell_type": "markdown",
   "metadata": {},
   "source": [
    "strings are concatenated, integers are added.\n",
    "\n",
    "#### string functions and importing modules \n",
    "we can use a large quantity of libraries written in python. We import them with the \"import\" command.  \n",
    "You can find a list of possible libraries here: https://docs.python.org/2/library/index.html  \n",
    "Once we have imported the module, we can access all its functions via *modulename.functionname*"
   ]
  },
  {
   "cell_type": "code",
   "execution_count": 137,
   "metadata": {
    "collapsed": false
   },
   "outputs": [
    {
     "name": "stdout",
     "output_type": "stream",
     "text": [
      "  tomorrow, tomorrow \n",
      "Tomorrow, tomorrow\n",
      "  Tonight, tonight \n",
      "['Tomorrow,', 'tomorrow']\n"
     ]
    }
   ],
   "source": [
    "word = '  Tomorrow, tomorrow '\n",
    "import string  # importing the library for string functions\n",
    "print string.lower(word)  # turns all upper case letters to lower case letters\n",
    "print string.strip(word)  # removes trailing and leading whitespaces\n",
    "print string.replace(word, 'morrow','night') # replaces parts of the string \n",
    "print string.split(word)  # splits the string into a list of substrings. If no separator is given, whitespaces are used."
   ]
  },
  {
   "cell_type": "markdown",
   "metadata": {},
   "source": [
    "In order to better understand, how functions work, we can either use the python documentation at docs.python.org, or quickly check with 'help(functionname) or ?."
   ]
  },
  {
   "cell_type": "code",
   "execution_count": 18,
   "metadata": {
    "collapsed": false
   },
   "outputs": [
    {
     "name": "stdout",
     "output_type": "stream",
     "text": [
      "Help on function replace in module string:\n",
      "\n",
      "replace(s, old, new, maxreplace=-1)\n",
      "    replace (str, old, new[, maxreplace]) -> string\n",
      "    \n",
      "    Return a copy of string str with all occurrences of substring\n",
      "    old replaced by new. If the optional argument maxreplace is\n",
      "    given, only the first maxreplace occurrences are replaced.\n",
      "\n"
     ]
    }
   ],
   "source": [
    "help(string.replace) # quick overview of the function replace()\n",
    "?string.replace()  # special jupyter notebook way of accessing help (for strings function replace())"
   ]
  },
  {
   "cell_type": "code",
   "execution_count": 19,
   "metadata": {
    "collapsed": false
   },
   "outputs": [
    {
     "name": "stdout",
     "output_type": "stream",
     "text": [
      "Help on module string:\n",
      "\n",
      "NAME\n",
      "    string - A collection of string operations (most are no longer used).\n",
      "\n",
      "FILE\n",
      "    d:\\anaconda\\lib\\string.py\n",
      "\n",
      "DESCRIPTION\n",
      "    Warning: most of the code you see here isn't normally used nowadays.\n",
      "    Beginning with Python 1.6, many of these functions are implemented as\n",
      "    methods on the standard string object. They used to be implemented by\n",
      "    a built-in module called strop, but strop is now obsolete itself.\n",
      "    \n",
      "    Public module variables:\n",
      "    \n",
      "    whitespace -- a string containing all characters considered whitespace\n",
      "    lowercase -- a string containing all characters considered lowercase letters\n",
      "    uppercase -- a string containing all characters considered uppercase letters\n",
      "    letters -- a string containing all characters considered letters\n",
      "    digits -- a string containing all characters considered decimal digits\n",
      "    hexdigits -- a string containing all characters considered hexadecimal digits\n",
      "    octdigits -- a string containing all characters considered octal digits\n",
      "    punctuation -- a string containing all characters considered punctuation\n",
      "    printable -- a string containing all characters considered printable\n",
      "\n",
      "CLASSES\n",
      "    __builtin__.object\n",
      "        Formatter\n",
      "        Template\n",
      "    \n",
      "    class Formatter(__builtin__.object)\n",
      "     |  Methods defined here:\n",
      "     |  \n",
      "     |  check_unused_args(self, used_args, args, kwargs)\n",
      "     |  \n",
      "     |  convert_field(self, value, conversion)\n",
      "     |  \n",
      "     |  format(*args, **kwargs)\n",
      "     |  \n",
      "     |  format_field(self, value, format_spec)\n",
      "     |  \n",
      "     |  get_field(self, field_name, args, kwargs)\n",
      "     |      # given a field_name, find the object it references.\n",
      "     |      #  field_name:   the field being looked up, e.g. \"0.name\"\n",
      "     |      #                 or \"lookup[3]\"\n",
      "     |      #  used_args:    a set of which args have been used\n",
      "     |      #  args, kwargs: as passed in to vformat\n",
      "     |  \n",
      "     |  get_value(self, key, args, kwargs)\n",
      "     |  \n",
      "     |  parse(self, format_string)\n",
      "     |      # returns an iterable that contains tuples of the form:\n",
      "     |      # (literal_text, field_name, format_spec, conversion)\n",
      "     |      # literal_text can be zero length\n",
      "     |      # field_name can be None, in which case there's no\n",
      "     |      #  object to format and output\n",
      "     |      # if field_name is not None, it is looked up, formatted\n",
      "     |      #  with format_spec and conversion and then used\n",
      "     |  \n",
      "     |  vformat(self, format_string, args, kwargs)\n",
      "     |  \n",
      "     |  ----------------------------------------------------------------------\n",
      "     |  Data descriptors defined here:\n",
      "     |  \n",
      "     |  __dict__\n",
      "     |      dictionary for instance variables (if defined)\n",
      "     |  \n",
      "     |  __weakref__\n",
      "     |      list of weak references to the object (if defined)\n",
      "    \n",
      "    class Template(__builtin__.object)\n",
      "     |  A string class for supporting $-substitutions.\n",
      "     |  \n",
      "     |  Methods defined here:\n",
      "     |  \n",
      "     |  __init__(self, template)\n",
      "     |  \n",
      "     |  safe_substitute(*args, **kws)\n",
      "     |  \n",
      "     |  substitute(*args, **kws)\n",
      "     |  \n",
      "     |  ----------------------------------------------------------------------\n",
      "     |  Data descriptors defined here:\n",
      "     |  \n",
      "     |  __dict__\n",
      "     |      dictionary for instance variables (if defined)\n",
      "     |  \n",
      "     |  __weakref__\n",
      "     |      list of weak references to the object (if defined)\n",
      "     |  \n",
      "     |  ----------------------------------------------------------------------\n",
      "     |  Data and other attributes defined here:\n",
      "     |  \n",
      "     |  __metaclass__ = <class 'string._TemplateMetaclass'>\n",
      "     |  \n",
      "     |  \n",
      "     |  delimiter = '$'\n",
      "     |  \n",
      "     |  idpattern = '[_a-z][_a-z0-9]*'\n",
      "     |  \n",
      "     |  pattern = <_sre.SRE_Pattern object>\n",
      "\n",
      "FUNCTIONS\n",
      "    atof(s)\n",
      "        atof(s) -> float\n",
      "        \n",
      "        Return the floating point number represented by the string s.\n",
      "    \n",
      "    atoi(s, base=10)\n",
      "        atoi(s [,base]) -> int\n",
      "        \n",
      "        Return the integer represented by the string s in the given\n",
      "        base, which defaults to 10.  The string s must consist of one\n",
      "        or more digits, possibly preceded by a sign.  If base is 0, it\n",
      "        is chosen from the leading characters of s, 0 for octal, 0x or\n",
      "        0X for hexadecimal.  If base is 16, a preceding 0x or 0X is\n",
      "        accepted.\n",
      "    \n",
      "    atol(s, base=10)\n",
      "        atol(s [,base]) -> long\n",
      "        \n",
      "        Return the long integer represented by the string s in the\n",
      "        given base, which defaults to 10.  The string s must consist\n",
      "        of one or more digits, possibly preceded by a sign.  If base\n",
      "        is 0, it is chosen from the leading characters of s, 0 for\n",
      "        octal, 0x or 0X for hexadecimal.  If base is 16, a preceding\n",
      "        0x or 0X is accepted.  A trailing L or l is not accepted,\n",
      "        unless base is 0.\n",
      "    \n",
      "    capitalize(s)\n",
      "        capitalize(s) -> string\n",
      "        \n",
      "        Return a copy of the string s with only its first character\n",
      "        capitalized.\n",
      "    \n",
      "    capwords(s, sep=None)\n",
      "        capwords(s [,sep]) -> string\n",
      "        \n",
      "        Split the argument into words using split, capitalize each\n",
      "        word using capitalize, and join the capitalized words using\n",
      "        join.  If the optional second argument sep is absent or None,\n",
      "        runs of whitespace characters are replaced by a single space\n",
      "        and leading and trailing whitespace are removed, otherwise\n",
      "        sep is used to split and join the words.\n",
      "    \n",
      "    center(s, width, *args)\n",
      "        center(s, width[, fillchar]) -> string\n",
      "        \n",
      "        Return a center version of s, in a field of the specified\n",
      "        width. padded with spaces as needed.  The string is never\n",
      "        truncated.  If specified the fillchar is used instead of spaces.\n",
      "    \n",
      "    count(s, *args)\n",
      "        count(s, sub[, start[,end]]) -> int\n",
      "        \n",
      "        Return the number of occurrences of substring sub in string\n",
      "        s[start:end].  Optional arguments start and end are\n",
      "        interpreted as in slice notation.\n",
      "    \n",
      "    expandtabs(s, tabsize=8)\n",
      "        expandtabs(s [,tabsize]) -> string\n",
      "        \n",
      "        Return a copy of the string s with all tab characters replaced\n",
      "        by the appropriate number of spaces, depending on the current\n",
      "        column, and the tabsize (default 8).\n",
      "    \n",
      "    find(s, *args)\n",
      "        find(s, sub [,start [,end]]) -> in\n",
      "        \n",
      "        Return the lowest index in s where substring sub is found,\n",
      "        such that sub is contained within s[start,end].  Optional\n",
      "        arguments start and end are interpreted as in slice notation.\n",
      "        \n",
      "        Return -1 on failure.\n",
      "    \n",
      "    index(s, *args)\n",
      "        index(s, sub [,start [,end]]) -> int\n",
      "        \n",
      "        Like find but raises ValueError when the substring is not found.\n",
      "    \n",
      "    join(words, sep=' ')\n",
      "        join(list [,sep]) -> string\n",
      "        \n",
      "        Return a string composed of the words in list, with\n",
      "        intervening occurrences of sep.  The default separator is a\n",
      "        single space.\n",
      "        \n",
      "        (joinfields and join are synonymous)\n",
      "    \n",
      "    joinfields = join(words, sep=' ')\n",
      "        join(list [,sep]) -> string\n",
      "        \n",
      "        Return a string composed of the words in list, with\n",
      "        intervening occurrences of sep.  The default separator is a\n",
      "        single space.\n",
      "        \n",
      "        (joinfields and join are synonymous)\n",
      "    \n",
      "    ljust(s, width, *args)\n",
      "        ljust(s, width[, fillchar]) -> string\n",
      "        \n",
      "        Return a left-justified version of s, in a field of the\n",
      "        specified width, padded with spaces as needed.  The string is\n",
      "        never truncated.  If specified the fillchar is used instead of spaces.\n",
      "    \n",
      "    lower(s)\n",
      "        lower(s) -> string\n",
      "        \n",
      "        Return a copy of the string s converted to lowercase.\n",
      "    \n",
      "    lstrip(s, chars=None)\n",
      "        lstrip(s [,chars]) -> string\n",
      "        \n",
      "        Return a copy of the string s with leading whitespace removed.\n",
      "        If chars is given and not None, remove characters in chars instead.\n",
      "    \n",
      "    maketrans(...)\n",
      "        maketrans(frm, to) -> string\n",
      "        \n",
      "        Return a translation table (a string of 256 bytes long)\n",
      "        suitable for use in string.translate.  The strings frm and to\n",
      "        must be of the same length.\n",
      "    \n",
      "    replace(s, old, new, maxreplace=-1)\n",
      "        replace (str, old, new[, maxreplace]) -> string\n",
      "        \n",
      "        Return a copy of string str with all occurrences of substring\n",
      "        old replaced by new. If the optional argument maxreplace is\n",
      "        given, only the first maxreplace occurrences are replaced.\n",
      "    \n",
      "    rfind(s, *args)\n",
      "        rfind(s, sub [,start [,end]]) -> int\n",
      "        \n",
      "        Return the highest index in s where substring sub is found,\n",
      "        such that sub is contained within s[start,end].  Optional\n",
      "        arguments start and end are interpreted as in slice notation.\n",
      "        \n",
      "        Return -1 on failure.\n",
      "    \n",
      "    rindex(s, *args)\n",
      "        rindex(s, sub [,start [,end]]) -> int\n",
      "        \n",
      "        Like rfind but raises ValueError when the substring is not found.\n",
      "    \n",
      "    rjust(s, width, *args)\n",
      "        rjust(s, width[, fillchar]) -> string\n",
      "        \n",
      "        Return a right-justified version of s, in a field of the\n",
      "        specified width, padded with spaces as needed.  The string is\n",
      "        never truncated.  If specified the fillchar is used instead of spaces.\n",
      "    \n",
      "    rsplit(s, sep=None, maxsplit=-1)\n",
      "        rsplit(s [,sep [,maxsplit]]) -> list of strings\n",
      "        \n",
      "        Return a list of the words in the string s, using sep as the\n",
      "        delimiter string, starting at the end of the string and working\n",
      "        to the front.  If maxsplit is given, at most maxsplit splits are\n",
      "        done. If sep is not specified or is None, any whitespace string\n",
      "        is a separator.\n",
      "    \n",
      "    rstrip(s, chars=None)\n",
      "        rstrip(s [,chars]) -> string\n",
      "        \n",
      "        Return a copy of the string s with trailing whitespace removed.\n",
      "        If chars is given and not None, remove characters in chars instead.\n",
      "    \n",
      "    split(s, sep=None, maxsplit=-1)\n",
      "        split(s [,sep [,maxsplit]]) -> list of strings\n",
      "        \n",
      "        Return a list of the words in the string s, using sep as the\n",
      "        delimiter string.  If maxsplit is given, splits at no more than\n",
      "        maxsplit places (resulting in at most maxsplit+1 words).  If sep\n",
      "        is not specified or is None, any whitespace string is a separator.\n",
      "        \n",
      "        (split and splitfields are synonymous)\n",
      "    \n",
      "    splitfields = split(s, sep=None, maxsplit=-1)\n",
      "        split(s [,sep [,maxsplit]]) -> list of strings\n",
      "        \n",
      "        Return a list of the words in the string s, using sep as the\n",
      "        delimiter string.  If maxsplit is given, splits at no more than\n",
      "        maxsplit places (resulting in at most maxsplit+1 words).  If sep\n",
      "        is not specified or is None, any whitespace string is a separator.\n",
      "        \n",
      "        (split and splitfields are synonymous)\n",
      "    \n",
      "    strip(s, chars=None)\n",
      "        strip(s [,chars]) -> string\n",
      "        \n",
      "        Return a copy of the string s with leading and trailing\n",
      "        whitespace removed.\n",
      "        If chars is given and not None, remove characters in chars instead.\n",
      "        If chars is unicode, S will be converted to unicode before stripping.\n",
      "    \n",
      "    swapcase(s)\n",
      "        swapcase(s) -> string\n",
      "        \n",
      "        Return a copy of the string s with upper case characters\n",
      "        converted to lowercase and vice versa.\n",
      "    \n",
      "    translate(s, table, deletions='')\n",
      "        translate(s,table [,deletions]) -> string\n",
      "        \n",
      "        Return a copy of the string s, where all characters occurring\n",
      "        in the optional argument deletions are removed, and the\n",
      "        remaining characters have been mapped through the given\n",
      "        translation table, which must be a string of length 256.  The\n",
      "        deletions argument is not allowed for Unicode strings.\n",
      "    \n",
      "    upper(s)\n",
      "        upper(s) -> string\n",
      "        \n",
      "        Return a copy of the string s converted to uppercase.\n",
      "    \n",
      "    zfill(x, width)\n",
      "        zfill(x, width) -> string\n",
      "        \n",
      "        Pad a numeric string x with zeros on the left, to fill a field\n",
      "        of the specified width.  The string x is never truncated.\n",
      "\n",
      "DATA\n",
      "    ascii_letters = 'abcdefghijklmnopqrstuvwxyzABCDEFGHIJKLMNOPQRSTUVWXYZ'\n",
      "    ascii_lowercase = 'abcdefghijklmnopqrstuvwxyz'\n",
      "    ascii_uppercase = 'ABCDEFGHIJKLMNOPQRSTUVWXYZ'\n",
      "    digits = '0123456789'\n",
      "    hexdigits = '0123456789abcdefABCDEF'\n",
      "    letters = 'abcdefghijklmnopqrstuvwxyzABCDEFGHIJKLMNOPQRSTUVWXYZ'\n",
      "    lowercase = 'abcdefghijklmnopqrstuvwxyz'\n",
      "    octdigits = '01234567'\n",
      "    printable = '0123456789abcdefghijklmnopqrstuvwxyzABCDEFGHIJKLMNOPQRSTU...\n",
      "    punctuation = '!\"#$%&\\'()*+,-./:;<=>?@[\\\\]^_`{|}~'\n",
      "    uppercase = 'ABCDEFGHIJKLMNOPQRSTUVWXYZ'\n",
      "    whitespace = '\\t\\n\\x0b\\x0c\\r '\n",
      "\n",
      "\n"
     ]
    }
   ],
   "source": [
    "help(string)  # very thorough information on the string module and all its functions. This is quite long."
   ]
  },
  {
   "cell_type": "markdown",
   "metadata": {},
   "source": [
    "If writing the whole module name becomes tiresome, we can also change the name when importing the module."
   ]
  },
  {
   "cell_type": "code",
   "execution_count": 20,
   "metadata": {
    "collapsed": false
   },
   "outputs": [
    {
     "name": "stdout",
     "output_type": "stream",
     "text": [
      "  tomorrow, tomorrow \n"
     ]
    }
   ],
   "source": [
    "import string as sg  \n",
    "print sg.lower(word)"
   ]
  },
  {
   "cell_type": "markdown",
   "metadata": {},
   "source": [
    "If we only need one or two functions from the module, but we use them very often, we can import the function directly, so we do not need to also write the module name."
   ]
  },
  {
   "cell_type": "code",
   "execution_count": 141,
   "metadata": {
    "collapsed": false
   },
   "outputs": [
    {
     "name": "stdout",
     "output_type": "stream",
     "text": [
      "['  T', 'm', 'rr', 'w, t', 'm', 'rr', 'w ']\n",
      "  tomorrow, tomorrow \n"
     ]
    },
    {
     "ename": "NameError",
     "evalue": "name 'lower' is not defined",
     "output_type": "error",
     "traceback": [
      "\u001b[0;31m\u001b[0m",
      "\u001b[0;31mNameError\u001b[0mTraceback (most recent call last)",
      "\u001b[0;32m<ipython-input-141-a6c22a516fb4>\u001b[0m in \u001b[0;36m<module>\u001b[0;34m()\u001b[0m\n\u001b[1;32m      2\u001b[0m \u001b[1;32mprint\u001b[0m \u001b[0msplit\u001b[0m\u001b[1;33m(\u001b[0m\u001b[0mword\u001b[0m\u001b[1;33m,\u001b[0m \u001b[1;34m'o'\u001b[0m\u001b[1;33m)\u001b[0m \u001b[1;31m# uses the letter 'o' as splitting criterium\u001b[0m\u001b[1;33m\u001b[0m\u001b[0m\n\u001b[1;32m      3\u001b[0m \u001b[1;32mprint\u001b[0m \u001b[0mstring\u001b[0m\u001b[1;33m.\u001b[0m\u001b[0mlower\u001b[0m\u001b[1;33m(\u001b[0m\u001b[0mword\u001b[0m\u001b[1;33m)\u001b[0m\u001b[1;33m\u001b[0m\u001b[0m\n\u001b[0;32m----> 4\u001b[0;31m \u001b[1;32mprint\u001b[0m \u001b[0mlower\u001b[0m\u001b[1;33m(\u001b[0m\u001b[0mword\u001b[0m\u001b[1;33m)\u001b[0m  \u001b[1;31m# this should give an error. it will disappear, once you've run the next cell.\u001b[0m\u001b[1;33m\u001b[0m\u001b[0m\n\u001b[0m",
      "\u001b[0;31mNameError\u001b[0m: name 'lower' is not defined"
     ]
    }
   ],
   "source": [
    "from string import split\n",
    "print split(word, 'o') # uses the letter 'o' as splitting criterium\n",
    "print string.lower(word)\n",
    "print lower(word)  # this should give an error. it will disappear, once you've run the next cell."
   ]
  },
  {
   "cell_type": "markdown",
   "metadata": {},
   "source": [
    "Lazy people like to just import all functions. This is not very good practice though. "
   ]
  },
  {
   "cell_type": "code",
   "execution_count": 23,
   "metadata": {
    "collapsed": false
   },
   "outputs": [
    {
     "name": "stdout",
     "output_type": "stream",
     "text": [
      "  tomorrow, tomorrow \n",
      "  Tom, tom \n"
     ]
    }
   ],
   "source": [
    "from string import *\n",
    "print lower(word)\n",
    "print replace(word,'orrow','')"
   ]
  },
  {
   "cell_type": "markdown",
   "metadata": {},
   "source": [
    "since word is a string, we can use a much more practical way of applying the functions. Use this from now on for string modules."
   ]
  },
  {
   "cell_type": "code",
   "execution_count": 142,
   "metadata": {
    "collapsed": false
   },
   "outputs": [
    {
     "name": "stdout",
     "output_type": "stream",
     "text": [
      "  tomorrow, tomorrow \n",
      "['  Tomorrow', ' tomorrow ']\n"
     ]
    }
   ],
   "source": [
    "print word.lower()\n",
    "print word.split(',')"
   ]
  },
  {
   "cell_type": "markdown",
   "metadata": {},
   "source": [
    "\n",
    "\n",
    "#### improve printing\n",
    "\n",
    "If we want to have more power over the output of the print function, we can use a slightly modified format. We can define the format our variables should be in. %s = string, %i = integer, %f = float. \n",
    "The alternative way of printing \"hello world\" is then:"
   ]
  },
  {
   "cell_type": "code",
   "execution_count": 145,
   "metadata": {
    "collapsed": false
   },
   "outputs": [
    {
     "name": "stdout",
     "output_type": "stream",
     "text": [
      "hallo welt\n",
      "hello welt\n"
     ]
    }
   ],
   "source": [
    "name = 'welt'\n",
    "print 'hallo', name\n",
    "print(\"hello %s\"%name)\n"
   ]
  },
  {
   "cell_type": "markdown",
   "metadata": {},
   "source": [
    "When we expect a type that's different from the corresponding variable type, i.e. using %f with an integer variable, then python tries to convert the variable into the correct type before printing it. \n",
    "If we print numbers, we can now define the number of places behind the comma. For two places, use %.2f \n",
    "Play around a bit with the example, try to add variables, see what happens if you use %22.3s  instead of %s etc.\n",
    "\n",
    "If we want to print a new line, use \"\\n\".  (also, \"\\t\" for tabs)  "
   ]
  },
  {
   "cell_type": "code",
   "execution_count": 146,
   "metadata": {
    "collapsed": false
   },
   "outputs": [
    {
     "name": "stdout",
     "output_type": "stream",
     "text": [
      "2 mal\n",
      "3 macht\n",
      "4.000000 - widdewiddewitt und\n",
      "3.14 macht neune\n",
      "2 mal 3 macht 4 widewidewitt und 3.142592 macht neune - \n",
      "ich mach mirdie welt wide wie sie mir gefaellt\n"
     ]
    }
   ],
   "source": [
    "zahl = 2\n",
    "zahl2 = 3.142592\n",
    "type(zahl)\n",
    "print(\"%s mal\"%zahl)  # integer to string\n",
    "print(\"%i macht\"%zahl2) # float to integer. This does a conversion before printing: int(zahl2)\n",
    "print(\"%f - widdewiddewitt und\"%(zahl+zahl))  # integer to float\n",
    "print(\"%.2f macht neune\"%zahl2) #float with fewer positions\n",
    "# Note:  within brackets we can continue the expression in the next line. \n",
    "# However, strings cannot be continued with single \"\". \n",
    "print(\"%i mal %i macht %s widewidewitt und %s macht neune - \\nich mach mir\"\n",
    "      \"die %s wide wie sie mir gefaellt\"%( zahl, zahl2, zahl*2, zahl2, name))\n",
    "#print(\"hello %f\"%name) #==>error # string to float \n"
   ]
  },
  {
   "cell_type": "markdown",
   "metadata": {},
   "source": [
    "As we have seen in the last exercise, we can manipulate the position and the length of a string with %2.4s. (any number for 2 or 4)\n",
    "There's another way to print, which becomes a little easier for strings with many variables. "
   ]
  },
  {
   "cell_type": "code",
   "execution_count": 15,
   "metadata": {
    "collapsed": false
   },
   "outputs": [
    {
     "name": "stdout",
     "output_type": "stream",
     "text": [
      "2 mal 3 macht 4 widewidewittund 3 macht neune\n",
      "2 mal 3 macht 4 widewidewittund 3 macht neune\n"
     ]
    }
   ],
   "source": [
    "print(\"{zwei} mal {drei} macht {vier} widewidewitt\"\n",
    "      \"und {drei} macht neune\").format(zwei=zahl, drei=int(zahl2), vier=zahl*2) \n",
    "\n",
    "print(\"%(zwei)i mal %(drei)i macht %(vier)i widewidewitt\"\n",
    "      \"und %(drei)i macht neune\")%{'zwei':zahl, 'drei':zahl2, 'vier':zahl*2}"
   ]
  },
  {
   "cell_type": "markdown",
   "metadata": {},
   "source": [
    "### tuple\n",
    "\n",
    "if we want to treat several objects together, we can use tuples. We have already seen one in the last box. Here it is again. Tuples are immutable, this means, we can access objects at different position in the tuple, but we cannot change, delete or add objects. Again, as with strings, the first position has index 0, the last position has index N-1 where N is the length of the tuple. The last position can also be accessed with index -1.\n",
    "#### Example: "
   ]
  },
  {
   "cell_type": "code",
   "execution_count": 31,
   "metadata": {
    "collapsed": false
   },
   "outputs": [
    {
     "name": "stdout",
     "output_type": "stream",
     "text": [
      "2 mal 3 macht 4 widewidewitt und 3.142592 macht neune - \n",
      "ich mach mir die welt wide wie sie mir gefaellt\n",
      "hallo welt\n",
      "<type 'tuple'>\n"
     ]
    }
   ],
   "source": [
    "mytuple = ( zahl, zahl2, zahl*2, zahl2, name)\n",
    "print(\"%i mal %i macht %s widewidewitt und %s macht neune - \\n\"\n",
    "      \"ich mach mir die %s wide wie sie mir gefaellt\"%mytuple)\n",
    "\n",
    "print \"hallo\", mytuple[4]\n",
    "print type(mytuple)\n",
    "#namedtuple."
   ]
  },
  {
   "cell_type": "markdown",
   "metadata": {},
   "source": [
    "#### optional Exercise, better skip this for now:\n",
    "Try to experiment with tuples and print formating. \n",
    "i.e. with the given tuple print 10 stars, and then in the next line, print the word \"star\" at the first position without a star overhead. Remember: multiplying strings with a number will concatenate them. Take the given example as a hint.\n"
   ]
  },
  {
   "cell_type": "code",
   "execution_count": 221,
   "metadata": {
    "collapsed": false
   },
   "outputs": [
    {
     "name": "stdout",
     "output_type": "stream",
     "text": [
      "****\n",
      "    s\n"
     ]
    }
   ],
   "source": [
    "# this is also possible ;)\n",
    "mt = ('*','starling')\n",
    "print(\"%s\\n%5.1s\")%(4*mt[0], mt[1]) # print the first entry of mt 4times, newline,\n",
    "                                  # print the first letter of the second entry after 4 whitespaces (at position5)\n",
    "                                  #check what happens if you print 2 or 3 letters of the second entry."
   ]
  },
  {
   "cell_type": "markdown",
   "metadata": {},
   "source": [
    "### list\n",
    "\n",
    "if we want more control, if we want to change, add or remove objects, we can use lists."
   ]
  },
  {
   "cell_type": "code",
   "execution_count": 33,
   "metadata": {
    "collapsed": true
   },
   "outputs": [],
   "source": [
    "mylist = []  # intitializing an empty list"
   ]
  },
  {
   "cell_type": "markdown",
   "metadata": {},
   "source": [
    "As with tuples, objects in a list can have different types. \n",
    "Objects in a list can be accessed through the index of their position. The first element has index 0, the second index 1 etc.\n",
    "We can also initialize a list with objects"
   ]
  },
  {
   "cell_type": "code",
   "execution_count": 159,
   "metadata": {
    "collapsed": false
   },
   "outputs": [
    {
     "name": "stdout",
     "output_type": "stream",
     "text": [
      "['200', 'Kilo', 'Schokolade', 200, 'gute']\n"
     ]
    }
   ],
   "source": [
    "rezept = ['200', 'Kilo', 'Schokolade', 200, 'gute']  # initiating list with objects.\n",
    "print rezept"
   ]
  },
  {
   "cell_type": "markdown",
   "metadata": {},
   "source": [
    "we can change single objects within the list."
   ]
  },
  {
   "cell_type": "code",
   "execution_count": 160,
   "metadata": {
    "collapsed": false
   },
   "outputs": [
    {
     "name": "stdout",
     "output_type": "stream",
     "text": [
      "200 Gramm\n"
     ]
    }
   ],
   "source": [
    "rezept[1] = 'Gramm'\n",
    "print rezept[0], rezept[1]"
   ]
  },
  {
   "cell_type": "markdown",
   "metadata": {},
   "source": [
    "#### Exercise: \n",
    "Print the type of the third object in the list and the type of the variable mylist. \n",
    "change the last object to integer.\n",
    "change the second object to 2."
   ]
  },
  {
   "cell_type": "code",
   "execution_count": 34,
   "metadata": {
    "collapsed": false
   },
   "outputs": [
    {
     "name": "stdout",
     "output_type": "stream",
     "text": [
      "<type 'int'>\n"
     ]
    }
   ],
   "source": [
    "mylist = [0,1,True, 'three','',5.5]  \n",
    "print type(mylist[0])"
   ]
  },
  {
   "cell_type": "markdown",
   "metadata": {},
   "source": [
    "The size of the list can be dynamically changed by appending or deleting objects.\n",
    "Accessing positions that are outside the list results in errors."
   ]
  },
  {
   "cell_type": "code",
   "execution_count": 161,
   "metadata": {
    "collapsed": false
   },
   "outputs": [
    {
     "name": "stdout",
     "output_type": "stream",
     "text": [
      "['200', 'Gramm', 'Schokolade', 200, 'gute', 'Butter']\n",
      "rezept: ['200', 'Gramm', 'Schokolade', 200, 'Butter']\n"
     ]
    }
   ],
   "source": [
    "rezept.append('Butter')\n",
    "print rezept\n",
    "del rezept[4]\n",
    "print \"rezept:\", rezept"
   ]
  },
  {
   "cell_type": "markdown",
   "metadata": {},
   "source": [
    "lists can be converted to tuples and tuples can be converted to lists."
   ]
  },
  {
   "cell_type": "code",
   "execution_count": 162,
   "metadata": {
    "collapsed": false
   },
   "outputs": [
    {
     "name": "stdout",
     "output_type": "stream",
     "text": [
      "<type 'tuple'>\n",
      "<type 'list'>\n"
     ]
    }
   ],
   "source": [
    "mytuple = (4, \"Huehner\")\n",
    "print type(mytuple)\n",
    "eggs = list(mytuple)\n",
    "print type(eggs)"
   ]
  },
  {
   "cell_type": "markdown",
   "metadata": {},
   "source": [
    "When we want to add more than one element to a list, we can use the method \"extend\" and add an entire list of elements."
   ]
  },
  {
   "cell_type": "code",
   "execution_count": 163,
   "metadata": {
    "collapsed": false
   },
   "outputs": [
    {
     "name": "stdout",
     "output_type": "stream",
     "text": [
      "[4, 'Huehner', '80', 'Gramm', 'Staub']\n",
      "['200', 'Gramm', 'Schokolade', 200, 'Butter', 4, 'Huehner', '80', 'Gramm', 'Staub']\n"
     ]
    }
   ],
   "source": [
    "eggs.extend(['80','Gramm','Staub'])\n",
    "print eggs\n",
    "rezept.extend(eggs)\n",
    "print rezept"
   ]
  },
  {
   "cell_type": "markdown",
   "metadata": {},
   "source": [
    "If we want to print a list in a more pretty way, we can use the command \"join\". All objects of the list have to be string for this to work.\n",
    "We change the type of the two numerical entries to string and print the list with entries separated by a hyphen."
   ]
  },
  {
   "cell_type": "code",
   "execution_count": 164,
   "metadata": {
    "collapsed": false
   },
   "outputs": [
    {
     "name": "stdout",
     "output_type": "stream",
     "text": [
      "200-Gramm-Schokolade-200-Butter-4-Huehner-80-Gramm-Staub\n"
     ]
    }
   ],
   "source": [
    "rezept[3]=str(rezept[3])\n",
    "rezept[5]=str(rezept[5])\n",
    "# an easy way to print a list of strings:\n",
    "print \"-\".join(rezept) #choose a separator you prefer"
   ]
  },
  {
   "cell_type": "markdown",
   "metadata": {},
   "source": [
    "Members of a list are stored in memory. The list variable (here: mylist) contains a pointer to the first location of the list in memory. The index helps to find the succeeding locations of the objects in the list. \n",
    "When copying a list, only the pointer is copied. The stored objects are not duplicated. This has huge advantages in speed efficiency and storage, but can also lead to errors in sloppy coding. When manipulating the new variable, the old one will also be manipulated, as they are identical. We can check this using the id() function. It gives us the memory location of the object.  \n",
    "**Careful**: executing the below code multiple times will lead to an error. Why?   \n",
    "Executing cells in the wrong order or multiple times can lead to funny results. Always control the values of your variables."
   ]
  },
  {
   "cell_type": "code",
   "execution_count": 165,
   "metadata": {
    "collapsed": false
   },
   "outputs": [
    {
     "name": "stdout",
     "output_type": "stream",
     "text": [
      "kuchen: ['200', 'Gramm', 'Schokolade', '200', 'Butter', '4', 'Huehner', '80', 'Gramm', 'Staub']\n",
      "rezept: ['200', 'Gramm', 'Schokolade', '200', 'Butter', '4', 'Huehner', '80', 'Gramm', 'Staub']\n",
      "rezept: ['200', 'Schokolade', '200', 'Butter', '4', 'Eier', '80', 'Gramm', 'Staub'] \n",
      "kuchen: ['200', 'Schokolade', '200', 'Butter', '4', 'Eier', '80', 'Gramm', 'Staub']\n",
      "126605064\n",
      "126605064\n"
     ]
    }
   ],
   "source": [
    "kuchen = rezept  # Attention: we do not copy the entire list here, we only copy the pointers.\n",
    "print \"kuchen:\", kuchen\n",
    "print \"rezept:\", rezept\n",
    "del kuchen[1]\n",
    "kuchen[5] = 'Eier'\n",
    "print \"rezept:\", rezept, \"\\nkuchen:\", kuchen  # see how both lists have changed, even though we only manipulated the \"kuchen\" \n",
    "print id(kuchen)\n",
    "print id(rezept)"
   ]
  },
  {
   "cell_type": "markdown",
   "metadata": {},
   "source": [
    "check out:  \n",
    "[jakevdp.github.io/blog/2014/05/09/why-python-is-slow](http://jakevdp.github.io/blog/2014/05/09/why-python-is-slow)  \n",
    "for interesting information on pythons internal workings.\n",
    "![](pypoint.png)"
   ]
  },
  {
   "cell_type": "markdown",
   "metadata": {},
   "source": [
    "if we want to make a true copy of the list, with a copy of all its elements, we need to define which elements to copy, by giving a range of the list.\n",
    "When we want to copy all elements, use [:].\n",
    "If we copy all the elements as well as the pointer, then changing elements of the new list will not influence the original list."
   ]
  },
  {
   "cell_type": "code",
   "execution_count": 166,
   "metadata": {
    "collapsed": false
   },
   "outputs": [
    {
     "name": "stdout",
     "output_type": "stream",
     "text": [
      "['200', 'Schokolade', '200', 'Butter', '4', 'Eier', '80']\n",
      "rezept: 200 Schokolade 200 Butter 4 Eier 80 Gramm Staub \n",
      "kuchen: 200 Schokolade 200 Butter 4 Eier 80 Mehl\n",
      "126604552 126605064\n"
     ]
    }
   ],
   "source": [
    "kuchen = rezept[0:7]\n",
    "print kuchen\n",
    "kuchen.append('Mehl')\n",
    "print \"rezept:\", \" \".join(rezept), \"\\nkuchen:\", \" \".join(kuchen)\n",
    "print id(kuchen), id(rezept)"
   ]
  },
  {
   "cell_type": "markdown",
   "metadata": {},
   "source": [
    "At this point, the last row should read: kuchen: 200 Schokolade 200 Butter 4 Eier 80 Mehl  \n",
    "*Obviously 150 gramm of sugar is missing* :)\n",
    "#### Exercise: \n",
    "copy the entire list \"kuchen\" to a new variable. You can name it \"kuchen_mit_zucker\" or any way you like.\n",
    "Make sure you do not only copy the pointers. Add \"150\" and \"Zucker\" to your new list. Make sure you did not change anything in list \"kuchen\". What is the length of the list? (use function len())"
   ]
  },
  {
   "cell_type": "code",
   "execution_count": null,
   "metadata": {
    "collapsed": false
   },
   "outputs": [],
   "source": []
  },
  {
   "cell_type": "markdown",
   "metadata": {
    "collapsed": true
   },
   "source": [
    "Btw: melt chocolate & butter, stir all ingredients and bake at 150 degree for ~20 min. It's a great chocolate cake :)  \n",
    "\n",
    "we can easily create a list of a range of integers with the command \"range\". It will come in useful later :)"
   ]
  },
  {
   "cell_type": "code",
   "execution_count": 169,
   "metadata": {
    "collapsed": false
   },
   "outputs": [
    {
     "name": "stdout",
     "output_type": "stream",
     "text": [
      "[1, 2, 3, 4, 5, 6, 7, 8, 9, 10, 11, 12, 13, 14, 15, 16, 17, 18, 19]\n",
      "[20, 19, 18, 17, 16, 15, 14, 13, 12, 11, 10, 9, 8, 7, 6, 5, 4, 3, 2]\n"
     ]
    }
   ],
   "source": [
    "mylist = range(1,20,1) # first integer, upper value (not inclusive), incremental value\n",
    "print mylist\n",
    "mylist = range(20,1,-1)\n",
    "print mylist"
   ]
  },
  {
   "cell_type": "markdown",
   "metadata": {},
   "source": [
    "#### optional exercise:\n",
    "create a list of every 5th integer from 50 to 5 (including 50 and 5)"
   ]
  },
  {
   "cell_type": "code",
   "execution_count": 172,
   "metadata": {
    "collapsed": false
   },
   "outputs": [
    {
     "name": "stdout",
     "output_type": "stream",
     "text": [
      "[50, 45, 40, 35, 30, 25, 20, 15, 10, 5]\n"
     ]
    }
   ],
   "source": []
  },
  {
   "cell_type": "markdown",
   "metadata": {},
   "source": [
    "### list of lists (optional)\n",
    "\n",
    "we can also create and access nested lists.\n",
    "Here special care needs to be taken, when copying them. When a list is represented by a pointer to its objects, then a list of a list is a pointer of pointers.\n",
    "Let's see what happens, if we create and copy a list of lists and then try to change its elements."
   ]
  },
  {
   "cell_type": "code",
   "execution_count": 173,
   "metadata": {
    "collapsed": false
   },
   "outputs": [
    {
     "name": "stdout",
     "output_type": "stream",
     "text": [
      "[[1, 2, 3, 4, 5, 6, 7], [2, 3, 4, 5, 6, 7, 8], [3, 4, 5, 6, 7, 8, 9], [4, 5, 6, 7, 8, 9, 10]]\n",
      "newlol [[1, 2, 3, 4, 5, 6, 7], [2, 3, 4, 5, 6, 7, 8], [3, 4, 5, 6, 7, 8, 9], [4, 5, 6, 7, 8, 9, 10]]\n",
      "newlol [[7, 6, 5, 4, 3, 2, 1], [2, 3, 4, 5, 6, 7, 8], [3, 4, 5, 6, 7, 8, 9], [4, 5, 6, 7, 8, 9, 10]]\n",
      "lol [[1, 2, 3, 4, 5, 6, 7], [2, 3, 4, 5, 6, 7, 8], [3, 4, 5, 6, 7, 8, 9], [4, 5, 6, 7, 8, 9, 10]]\n"
     ]
    }
   ],
   "source": [
    "# we create a list of lists which consists of 5 lists of 7 elements each. (explanation will be given later)\n",
    "lol = [range(k,k+7) for k in range(1,5)]\n",
    "print lol\n",
    "newlol = lol[:]  # we copy the pointers of the first list to the new list.\n",
    "print 'newlol', newlol\n",
    "newlol[0] = range(7,0,-1) # we replace the list that belongs to the first pointer.\n",
    "print 'newlol',newlol\n",
    "print 'lol',lol"
   ]
  },
  {
   "cell_type": "markdown",
   "metadata": {},
   "source": [
    "This worked out fine. We copied the pointers of the list to a new variable. We can now replace them by a new pointer, which points to a different list. This works fine and does not influence the old list. However, if we change elements of the list they point to, it's a different thing. Let's see:"
   ]
  },
  {
   "cell_type": "code",
   "execution_count": 174,
   "metadata": {
    "collapsed": false
   },
   "outputs": [
    {
     "name": "stdout",
     "output_type": "stream",
     "text": [
      "newlol [[7, 6, 5, 4, 3, 2, 1], [100, 3, 4, 5, 6, 7, 8], [3, 4, 5, 6, 7, 8, 9], [4, 5, 6, 7, 8, 9, 10]]\n",
      "lol [[1, 2, 3, 4, 5, 6, 7], [100, 3, 4, 5, 6, 7, 8], [3, 4, 5, 6, 7, 8, 9], [4, 5, 6, 7, 8, 9, 10]]\n"
     ]
    }
   ],
   "source": [
    "lol[1][0] = 100\n",
    "print 'newlol',newlol\n",
    "print 'lol',lol"
   ]
  },
  {
   "cell_type": "markdown",
   "metadata": {},
   "source": [
    "The new entry will also be found in the old list of lists. If we want to copy the list of lists with all its elements, we need to not only copy the pointers to the lists, but also the elements of the lists. There are two ways, doing this by hand, or using the function deepcopy."
   ]
  },
  {
   "cell_type": "code",
   "execution_count": 175,
   "metadata": {
    "collapsed": false
   },
   "outputs": [
    {
     "name": "stdout",
     "output_type": "stream",
     "text": [
      "lol [[1, 2, 3, 4, 5, 6, 7], [100, 3, 4, 5, 6, 7, 8], [3, 4, 5, 6, 7, 8, 9], [4, 5, 6, 7, 8, 9, 10]]\n",
      "newlol [[1, 2, 3, 4, 5, 6, 7], [100, 3, 4, 5, 6, 7, 8], [3, 4, 5, 6, 7, 8, 9], [4, 5, 6, 7, 8, 9, 10]]\n",
      "newlol2 [[1, 2, 3, 4, 5, 6, 7], [100, 3, 4, 5, 6, 7, 8], [3, 4, 5, 6, 7, 8, 9], [4, 5, 6, 7, 8, 9, 10]]\n",
      "lol [[1, 2, 'brezel', 4, 5, 6, 7], [100, 3, 4, 5, 6, 7, 8], [3, 4, 5, 6, 7, 8, 9], [4, 5, 6, 7, 8, 9, 10]]\n",
      "newlol [[1, 2, 3, 4, 5, 6, 7], [100, 3, 4, 5, 6, 7, 8], [3, 4, 5, 6, 7, 8, 9], [4, 5, 6, 7, 8, 9, 10]]\n",
      "newlol2 [[1, 2, 3, 4, 5, 6, 7], [100, 3, 4, 5, 6, 7, 8], [3, 4, 5, 6, 7, 8, 9], [4, 5, 6, 7, 8, 9, 10]]\n"
     ]
    }
   ],
   "source": [
    "# by hand:\n",
    "print 'lol',lol\n",
    "newlol = lol[:]\n",
    "for l in range(0,len(lol)):  # loop over all pointers to lists\n",
    "    newlol[l] = lol[l][:]    # copy all elements of the sublists.\n",
    "print 'newlol', newlol\n",
    "\n",
    "# with function deepcopy \n",
    "import copy\n",
    "newlol2 = copy.deepcopy(lol)\n",
    "print 'newlol2', newlol2\n",
    "\n",
    "lol[0][2] = \"brezel\"\n",
    "print 'lol',lol\n",
    "print 'newlol', newlol\n",
    "print 'newlol2', newlol2"
   ]
  },
  {
   "cell_type": "markdown",
   "metadata": {},
   "source": [
    "###  array (optional)\n",
    "\n",
    "we have seen before, that lists do not have the numeric properties we'd expect from arrays of numbers. When multiplying a list with a value, the list will be repeated, instead of multiplying the values of its objects. But a list can consist of many diverse objects. Not for all of them does multiplying with a number make sense. If we want to do mathematical calculations, then we can use arrays from the numpy library. Numpy = numerical python. \n",
    "The objects of a numpy array need to be of numerical type. A list can be transformed into a numpy array."
   ]
  },
  {
   "cell_type": "code",
   "execution_count": 176,
   "metadata": {
    "collapsed": false
   },
   "outputs": [
    {
     "name": "stdout",
     "output_type": "stream",
     "text": [
      "[1, 2, 3, 4, 5, 6, 7, 8, 9, 1, 2, 3, 4, 5, 6, 7, 8, 9]\n",
      "[ 2  4  6  8 10 12 14 16 18]\n"
     ]
    }
   ],
   "source": [
    "import numpy as np\n",
    "\n",
    "mylist = range(1,10)\n",
    "print mylist*2\n",
    "\n",
    "myarray = np.array(mylist)\n",
    "print myarray*2"
   ]
  },
  {
   "cell_type": "markdown",
   "metadata": {},
   "source": [
    "### dictionary \n",
    "a dictionary can speed up access to specific entries. Each entry has a key. We can add as many keys with values as we want."
   ]
  },
  {
   "cell_type": "code",
   "execution_count": 177,
   "metadata": {
    "collapsed": false
   },
   "outputs": [
    {
     "name": "stdout",
     "output_type": "stream",
     "text": [
      "{'eggs': 4, 'chocolate': '200 gramm'}\n"
     ]
    }
   ],
   "source": [
    "mydict = {} #initializing empty dictionary\n",
    "# adding keys and values\n",
    "mydict['chocolate'] = '200 gramm'\n",
    "mydict['eggs'] = 4\n",
    "print mydict"
   ]
  },
  {
   "cell_type": "code",
   "execution_count": 178,
   "metadata": {
    "collapsed": false
   },
   "outputs": [
    {
     "name": "stdout",
     "output_type": "stream",
     "text": [
      "150 gramm\n"
     ]
    }
   ],
   "source": [
    "#initializing a dictionary with keys and values\n",
    "mydict = {'flour': '80 gramm', 'butter': '200 gramm', 'sugar' : '150 gramm'}\n",
    "print mydict['sugar']  # accessing the value that corresponds to a key"
   ]
  },
  {
   "cell_type": "markdown",
   "metadata": {},
   "source": [
    "Each key can only hold one value. Multiple identical keys are not possible."
   ]
  },
  {
   "cell_type": "code",
   "execution_count": 179,
   "metadata": {
    "collapsed": false
   },
   "outputs": [
    {
     "name": "stdout",
     "output_type": "stream",
     "text": [
      "{'butter': '200 gramm', 'flour': '80 gramm', 'sugar': '100 gramm'}\n"
     ]
    }
   ],
   "source": [
    "mydict['sugar'] = '100 gramm'\n",
    "print mydict"
   ]
  },
  {
   "cell_type": "markdown",
   "metadata": {},
   "source": [
    "we can access keys and values of the dictionary separately in lists."
   ]
  },
  {
   "cell_type": "code",
   "execution_count": 180,
   "metadata": {
    "collapsed": false
   },
   "outputs": [
    {
     "name": "stdout",
     "output_type": "stream",
     "text": [
      "['butter', 'flour', 'sugar']\n",
      "['200 gramm', '80 gramm', '100 gramm']\n"
     ]
    }
   ],
   "source": [
    "print mydict.keys()\n",
    "print mydict.values()"
   ]
  },
  {
   "cell_type": "markdown",
   "metadata": {},
   "source": [
    "if we want to copy dictionaries, we have to again take care. "
   ]
  },
  {
   "cell_type": "code",
   "execution_count": 181,
   "metadata": {
    "collapsed": false
   },
   "outputs": [
    {
     "name": "stdout",
     "output_type": "stream",
     "text": [
      "{'butter': '200 gramm', 'flour': '80 gramm', 'chocolate': 200, 'sugar': '100 gramm'}\n",
      "{'butter': '200 gramm', 'flour': '80 gramm', 'chocolate': 200, 'nuts': 50, 'sugar': '100 gramm'}\n"
     ]
    }
   ],
   "source": [
    "yourdict = mydict\n",
    "yourdict['chocolate']= 200  # here we now change the value to the key \"chocolate\" for mydict and yourdict\n",
    "print  mydict\n",
    "yourdict['nuts'] = 50  # here we add a key - value pair to yourdict and mydict\n",
    "print mydict"
   ]
  },
  {
   "cell_type": "markdown",
   "metadata": {},
   "source": [
    "use the deepcopy function from the copy library instead."
   ]
  },
  {
   "cell_type": "code",
   "execution_count": 182,
   "metadata": {
    "collapsed": false
   },
   "outputs": [
    {
     "name": "stdout",
     "output_type": "stream",
     "text": [
      "mine {'butter': '200 gramm', 'flour': '80 gramm', 'chocolate': 200, 'nuts': 50, 'sugar': '100 gramm'}\n",
      "yours {'butter': '200 gramm', 'flour': '80 gramm', 'eggs': 4, 'nuts': 50, 'sugar': '100 gramm', 'chocolate': 200}\n"
     ]
    }
   ],
   "source": [
    "import copy\n",
    "yourdict = copy.deepcopy(mydict)\n",
    "yourdict['eggs'] = 4\n",
    "print 'mine', mydict\n",
    "print 'yours', yourdict"
   ]
  },
  {
   "cell_type": "markdown",
   "metadata": {},
   "source": [
    "### conditions\n",
    "\n",
    "If we want to execute code only under the condition that a statement is true or false, we can use conditional statements.\n",
    " ![](./condition.png) \n",
    " \n",
    "In Python, we do not use brackets. Anything with the same indentation is in one code block.\n",
    "This makes the look of the code much nicer. Indent your code with exactly 4 spaces. Do not use tabs, or set your editor to convert tabs to 4 spaces automatically.\n",
    "After the if-condition or the loop we need a colon \":\".\n",
    "The condition is in brackets."
   ]
  },
  {
   "cell_type": "code",
   "execution_count": 6,
   "metadata": {
    "collapsed": false
   },
   "outputs": [
    {
     "name": "stdout",
     "output_type": "stream",
     "text": [
      "this is true\n"
     ]
    }
   ],
   "source": [
    "if True:\n",
    "    print 'this is true'\n",
    "else:\n",
    "    print 'this is false'"
   ]
  },
  {
   "cell_type": "markdown",
   "metadata": {},
   "source": [
    "Often it is used, to test if a variable has a particular value or is within a range of values."
   ]
  },
  {
   "cell_type": "code",
   "execution_count": 183,
   "metadata": {
    "collapsed": false
   },
   "outputs": [
    {
     "name": "stdout",
     "output_type": "stream",
     "text": [
      "a==1 True\n",
      "a!=1 False\n",
      "a>4 False\n",
      "a<=1 True\n",
      "a<1 False\n",
      "a in somevalues False\n",
      "a not in somevalues True\n"
     ]
    }
   ],
   "source": [
    "a=1\n",
    "somevalues = [2, 5, 7]\n",
    "print 'a==1', a==1 #is true        True if a is identical to 1\n",
    "print 'a!=1', a!=1 #is false       True if a is not equal to 1\n",
    "print 'a>4', a>4 #this is false    True if a is greater 4\n",
    "print 'a<=1', a<=1 #this is true   True if a is equal to 4 or smaller\n",
    "print 'a<1', a<1 #this is false    True if a is less than 4\n",
    "\n",
    "print 'a in somevalues', a in somevalues  # is false   True if a is in the list \"somevalues\"\n",
    "print 'a not in somevalues', a not in somevalues #is true True if a is not in the list \"somevalues\""
   ]
  },
  {
   "cell_type": "markdown",
   "metadata": {},
   "source": [
    "The if(statement) is True for all True statements. To understand how the if-condition reacts to normal variables, \n",
    "we need to know, what value the variable has, when it is converted to boolean.\n",
    "Here are some examples:"
   ]
  },
  {
   "cell_type": "code",
   "execution_count": 184,
   "metadata": {
    "collapsed": false
   },
   "outputs": [
    {
     "name": "stdout",
     "output_type": "stream",
     "text": [
      "zero is false: False\n",
      "numbers are true: True\n",
      "strings are true: True\n",
      "empty strings are false: False\n"
     ]
    }
   ],
   "source": [
    "zero = 0\n",
    "number = 5\n",
    "anystring = 'bla'\n",
    "emptystring = ''\n",
    "#0, empty string, NULL or False are false, rest is true..\n",
    "if zero:\n",
    "    print 'zero is true:', bool(zero)\n",
    "else:\n",
    "    print 'zero is false:', bool(zero)\n",
    "if number:\n",
    "    print 'numbers are true:', bool(number)\n",
    "else:\n",
    "    print 'numbers are false:', bool(number)\n",
    "if anystring:\n",
    "    print \"strings are true:\", bool(anystring)\n",
    "else:\n",
    "    print \"strings are false:\", bool(anystring)\n",
    "if emptystring:\n",
    "    print \"empty strings are true:\", bool(emptystring)\n",
    "else:\n",
    "    print \"empty strings are false:\", bool(emptystring)"
   ]
  },
  {
   "cell_type": "markdown",
   "metadata": {},
   "source": [
    "#### Exercise:\n",
    "a) create a condition that tests, whether a string variable is identical to the string \"hello\".\n",
    "Identity is tested with ==.\n",
    "If the condition is True, print something. If it is false, print something else.\n",
    "b) create a condition that tests, whether a string variable is greater than \"hello\". \n",
    "Can you see how order is interpreted in strings? "
   ]
  },
  {
   "cell_type": "code",
   "execution_count": null,
   "metadata": {
    "collapsed": false
   },
   "outputs": [],
   "source": []
  },
  {
   "cell_type": "markdown",
   "metadata": {},
   "source": [
    "### loops\n",
    "If we want to execute the same code multiple times, but for different variables, we can either copy the same line multiple times and change the variables, or we use a loop.\n",
    "Same as with the conditions: all code that belongs to the same block, here the block of the loop, needs to be indented.\n",
    "Here we loop over many objects and test if they are false or true if cast to boolean. As an easy rule of thumb, we see that empty objects (0,[],{},'') are usually false. "
   ]
  },
  {
   "cell_type": "code",
   "execution_count": 188,
   "metadata": {
    "collapsed": false
   },
   "outputs": [
    {
     "name": "stdout",
     "output_type": "stream",
     "text": [
      "0 is false\n",
      "1 is true\n",
      "2 is true\n",
      " is false\n",
      "hello is true\n",
      "False is false\n",
      "None is false\n",
      "[] is false\n",
      "['sublist', 'ha!'] is true\n",
      "{} is false\n",
      "{'dictentry': 'somevalue'} is true\n",
      "() is false\n",
      "('tuple', 1, 2) is true\n"
     ]
    }
   ],
   "source": [
    "# list of variables we want to use\n",
    "mylist = [0,1,2,\n",
    "          '', 'hello', \n",
    "          False, None, \n",
    "          [], ['sublist','ha!'], \n",
    "          {}, {'dictentry': 'somevalue'},\n",
    "          (), ('tuple',1,2)]  \n",
    "for entry in mylist:                # for each variables in the list, we want to execute the code in the blcok below\n",
    "    if entry:                      # we want to know if the variable converted to boolean is true of false\n",
    "        print entry, 'is true'\n",
    "    else:\n",
    "        print entry, 'is false'"
   ]
  },
  {
   "cell_type": "code",
   "execution_count": 189,
   "metadata": {
    "collapsed": false
   },
   "outputs": [
    {
     "name": "stdout",
     "output_type": "stream",
     "text": [
      "0 squared is 0\n",
      "1 squared is 1\n",
      "2 squared is 4\n",
      "3 squared is 9\n",
      "4 squared is 16\n",
      "5 squared is 25\n",
      "6 squared is 36\n",
      "7 squared is 49\n",
      "8 squared is 64\n",
      "9 squared is 81\n"
     ]
    }
   ],
   "source": [
    "for k in range(10):              \n",
    "    print k, 'squared is', k*k  "
   ]
  },
  {
   "cell_type": "markdown",
   "metadata": {},
   "source": [
    "#### Exercise: \n",
    "Loop through integers in the range 0 to 20. If the integer is a multiple of 5, print the integer squared. Otherwise, just print the integer value. "
   ]
  },
  {
   "cell_type": "code",
   "execution_count": null,
   "metadata": {
    "collapsed": false
   },
   "outputs": [],
   "source": []
  },
  {
   "cell_type": "markdown",
   "metadata": {},
   "source": [
    "#### list comprehension\n",
    "if we loop through a list, and the result should be a new list, i.e if we want to change elements in a list one by one, \n",
    "list comprehensions are a fast and pretty way to do this."
   ]
  },
  {
   "cell_type": "code",
   "execution_count": 11,
   "metadata": {
    "collapsed": false
   },
   "outputs": [
    {
     "name": "stdout",
     "output_type": "stream",
     "text": [
      "[0, 1, 4, 9, 16, 25, 36, 49, 64, 81]\n"
     ]
    }
   ],
   "source": [
    "newlist = [k*k for k in range(10)] #transforms a list with integers from 0 to 9 to integers squared \n",
    "print newlist\n"
   ]
  },
  {
   "cell_type": "markdown",
   "metadata": {},
   "source": [
    "list comprehensions with conditions. There are two possibilities:  \n",
    "We change the object according to some condition..,"
   ]
  },
  {
   "cell_type": "code",
   "execution_count": 60,
   "metadata": {
    "collapsed": false
   },
   "outputs": [
    {
     "data": {
      "text/plain": [
       "[1, 2, 3, 4, 25, 6, 7, 8, 9, 100, 11, 12, 13, 14, 225, 16, 17, 18, 19, 400]"
      ]
     },
     "execution_count": 60,
     "metadata": {},
     "output_type": "execute_result"
    }
   ],
   "source": [
    "[k if k%5 else k*k for k in range(1,21)]"
   ]
  },
  {
   "cell_type": "markdown",
   "metadata": {},
   "source": [
    " or we use a condition in order to decide which objects will be in the list."
   ]
  },
  {
   "cell_type": "code",
   "execution_count": 61,
   "metadata": {
    "collapsed": false
   },
   "outputs": [
    {
     "data": {
      "text/plain": [
       "[25, 100, 225, 400]"
      ]
     },
     "execution_count": 61,
     "metadata": {},
     "output_type": "execute_result"
    }
   ],
   "source": [
    "[k*k for k in range(1,21) if not k%5]"
   ]
  },
  {
   "cell_type": "markdown",
   "metadata": {},
   "source": [
    "#### Exercise:\n",
    "using list comprehension, create the following list: ['ha','haha','hahaha','hahahaha',.... ] with 8 entries."
   ]
  },
  {
   "cell_type": "code",
   "execution_count": null,
   "metadata": {
    "collapsed": false
   },
   "outputs": [],
   "source": []
  },
  {
   "cell_type": "markdown",
   "metadata": {},
   "source": [
    "### generators \n",
    "if we do want to loop over a list that is really long and would take up lots of space in memory, we can use a generator.\n",
    "A generator generates the entries to iterate over on the fly. They do not have to be stored anywhere. A generator function returns an iterator.  \n",
    "We can create a generator just as easily as a list with list comprehensions. Instead of [] we use ().   \n",
    "A generator can only be used once. If we want to use it very often, a list could be a better choice.  \n",
    "Note: if we use range, then a list object is created, that also takes up space in memory. If you iterate over a huuuuuge number of integers, use xrange instead. xrange is like a generator. (in python 3.x range is also returning a generator)\n"
   ]
  },
  {
   "cell_type": "code",
   "execution_count": 192,
   "metadata": {
    "collapsed": false
   },
   "outputs": [],
   "source": [
    "#generator \n",
    "g = (k*k for k in xrange(10))"
   ]
  },
  {
   "cell_type": "markdown",
   "metadata": {},
   "source": [
    "### iterators\n",
    "An iterator provides always the next element. We can iterate over a list, or use a generator to provide the next element. Elements do not need to be saved in memory. However, we can only run once through a generator, then we need to initialize it again. If you run below code twice, you will get a StopIteration Error."
   ]
  },
  {
   "cell_type": "code",
   "execution_count": 193,
   "metadata": {
    "collapsed": false
   },
   "outputs": [
    {
     "name": "stdout",
     "output_type": "stream",
     "text": [
      "0\n",
      "and next: 1\n",
      "and the loop will continue with the next element:\n",
      "4\n",
      "9\n",
      "16\n",
      "25\n",
      "36\n",
      "49\n",
      "64\n",
      "81\n"
     ]
    }
   ],
   "source": [
    "print g.next()\n",
    "print 'and next:', g.next()\n",
    "print 'and the loop will continue with the next element:'\n",
    "for k in g:\n",
    "    print k"
   ]
  },
  {
   "cell_type": "markdown",
   "metadata": {},
   "source": [
    "To keep track when looping over an iterator, we can use enumerate. It adds a counter, that is increased by one for each step in the loop. "
   ]
  },
  {
   "cell_type": "code",
   "execution_count": 64,
   "metadata": {
    "collapsed": false
   },
   "outputs": [
    {
     "name": "stdout",
     "output_type": "stream",
     "text": [
      "let's move the iterator to the next position 0\n",
      "0 1\n",
      "1 4\n",
      "2 9\n",
      "3 16\n",
      "4 25\n",
      "5 36\n",
      "6 49\n",
      "7 64\n",
      "8 81\n"
     ]
    }
   ],
   "source": [
    "#generator \n",
    "g = (k*k for k in xrange(10))\n",
    "\n",
    "for (i,k) in enumerate(g):\n",
    "    print i,k"
   ]
  },
  {
   "cell_type": "markdown",
   "metadata": {},
   "source": [
    "### reading/writing of files\n",
    "\n",
    "We can read files and write to files. In order to do so, first the file needs to be opened. After the operations on the file have been done, the file needs to be closed again. This can be done with:"
   ]
  },
  {
   "cell_type": "code",
   "execution_count": 17,
   "metadata": {
    "collapsed": true
   },
   "outputs": [],
   "source": [
    "f = open('D:\\\\private\\\\python\\\\the_raven.txt', 'r')  # r - open for reading, a - append, w - write ..\n",
    "f.close()"
   ]
  },
  {
   "cell_type": "markdown",
   "metadata": {},
   "source": [
    "Watch out: pathes are written differently in linux/mac and windows. \n",
    "A much nicer way is to use the following expression:  "
   ]
  },
  {
   "cell_type": "code",
   "execution_count": 16,
   "metadata": {
    "collapsed": true
   },
   "outputs": [],
   "source": [
    "with open('D:\\\\private\\\\python\\\\the_raven.txt') as f:   \n",
    "    #..some code here..\n",
    "    pass  # pass just says: don't do anything"
   ]
  },
  {
   "cell_type": "markdown",
   "metadata": {},
   "source": [
    "it opens the file and closes it automatically at the end of the block. Within the indented block, we can execute operations on the opened file. The file object can function as an iterator. For reading the file line by line, we can iterate over the file"
   ]
  },
  {
   "cell_type": "code",
   "execution_count": null,
   "metadata": {
    "collapsed": true
   },
   "outputs": [],
   "source": [
    "with open('D:\\\\private\\\\python\\\\the_raven.txt') as f: \n",
    "    for line in f:\n",
    "        print line"
   ]
  },
  {
   "cell_type": "markdown",
   "metadata": {},
   "source": [
    "If we use enumerate, we have some control over which line we are currently reading and can step out of the loop at a defined point. When we use \"break\", the loop is ended prematurely. "
   ]
  },
  {
   "cell_type": "code",
   "execution_count": 67,
   "metadata": {
    "collapsed": false
   },
   "outputs": [
    {
     "name": "stdout",
     "output_type": "stream",
     "text": [
      "0 Once upon a midnight dreary, while I pondered, weak and weary,\n",
      "\n",
      "1 Over many a quaint and curious volume of forgotten lore—\n",
      "\n",
      "2     While I nodded, nearly napping, suddenly there came a tapping,\n",
      "\n",
      "3 As of some one gently rapping, rapping at my chamber door.\n",
      "\n",
      "4 “’Tis some visitor,” I muttered, “tapping at my chamber door—\n",
      "\n",
      "5             Only this and nothing more.”\n",
      "\n"
     ]
    }
   ],
   "source": [
    "with open('D:\\\\private\\\\python\\\\the_raven.txt') as f: \n",
    "    for (i,line) in enumerate(f):\n",
    "        print i,line\n",
    "        if i>4:\n",
    "            break # we end the loop here after we have printed the 6th line (i=5)"
   ]
  },
  {
   "cell_type": "markdown",
   "metadata": {},
   "source": [
    "#### Exercise: \n",
    "1) in the previous code: move the condition and break, in order to only print the first 5 lines.  \n",
    "2) print out the second stanza of the poem (lines 8-13 (bzw 7-12)). Read in the fifth sentence (i=4) of the first stanza into the string variable with name \"sentence\"."
   ]
  },
  {
   "cell_type": "code",
   "execution_count": null,
   "metadata": {
    "collapsed": false
   },
   "outputs": [],
   "source": []
  },
  {
   "cell_type": "markdown",
   "metadata": {},
   "source": [
    "### regular expressions\n",
    "reg exps are very handy when it comes to working with text. They are a sequence of characters that define a search pattern.\n",
    "This pattern can then be used by search functions or by find and replace functions. \n",
    "\n",
    "- [a-zA-Z] - letters \n",
    "- [0-9] - numbers\n",
    "- ? - zero or one occurence of the previous element\n",
    "- \\* - zero or more occurences of the previous element \n",
    "- . - any character  \n",
    "https://www.debuggex.com/cheatsheet/regex/python\n",
    "\n",
    "below we search for the pattern in the sentence that starts with v or u then has an indefinite number of other characters and ends with a,d or e."
   ]
  },
  {
   "cell_type": "code",
   "execution_count": 212,
   "metadata": {
    "collapsed": false
   },
   "outputs": [
    {
     "name": "stdout",
     "output_type": "stream",
     "text": [
      "“’Tis some visitor,” I muttered, “tapping at my chamber door—\n",
      "\n",
      "found: visitor,” I muttered, “tapping at my chamber d\n"
     ]
    }
   ],
   "source": [
    "import re\n",
    "# search looks for a pattern in the entire string.\n",
    "print sentence\n",
    "pattern = \"[vu].*[ade]\"\n",
    "#newword = re.sub(\"\\\"\", \"\", word)  #word without \"\n",
    "result = re.search(pattern, sentence)\n",
    "if result:\n",
    "    print 'found:', result.group()\n",
    "else:\n",
    "    print 'not found'"
   ]
  },
  {
   "cell_type": "markdown",
   "metadata": {},
   "source": [
    "we can also use patterns to replace parts of the strings. In the following code, we want to replace all special characters by en empty string. The ^ indicates a negation, meaning: all characters except the ones in the bracket."
   ]
  },
  {
   "cell_type": "code",
   "execution_count": 213,
   "metadata": {
    "collapsed": false
   },
   "outputs": [
    {
     "name": "stdout",
     "output_type": "stream",
     "text": [
      "“’Tis some visitor,” I muttered, “tapping at my chamber door—\n",
      "\n",
      "Tis some visitor I muttered tapping at my chamber door\n"
     ]
    }
   ],
   "source": [
    "print sentence\n",
    "newsent= re.sub('[^a-zA-Z0-9 ]','', sentence)\n",
    "print newsent"
   ]
  },
  {
   "cell_type": "markdown",
   "metadata": {},
   "source": [
    "#### Exercise:\n",
    "in the above code: what happens if you remove the whitespace in the bracket?\n",
    "what happens if you remove the ^ ?"
   ]
  },
  {
   "cell_type": "markdown",
   "metadata": {},
   "source": [
    "### functions\n",
    "\n",
    "In order to reuse some code blocks, we can write functions. We have already used functions, before, such as re.sub() and re.search(). If we want to write our own function we have to think about several things:\n",
    "what are the variables, that we want to use/ do we need in the function?   \n",
    "what type of variables do we want to return?  \n",
    "what is the function going to do?  \n",
    "we define our function with the keyword **def** followed by the function name and the variables that are given to the function in parantheses. We can define optional variables by giving them a default argument. Do not ever give a mutable variable like list or dictionary as default argument."
   ]
  },
  {
   "cell_type": "code",
   "execution_count": 214,
   "metadata": {
    "collapsed": false
   },
   "outputs": [],
   "source": [
    "# the funny function has one mandatory variable joke: it needs to be initiated.\n",
    "# and one optional variable \"optionalvariable\" which is set to \"ha\" if no other value is given.\n",
    "def my_funny_function(joke, optionalvariable='ha'): \n",
    "    print joke\n",
    "    print(\"{ho}!!\").format(ho=optionalvariable*10)\n",
    "    "
   ]
  },
  {
   "cell_type": "markdown",
   "metadata": {},
   "source": [
    "we can then call the function."
   ]
  },
  {
   "cell_type": "code",
   "execution_count": 217,
   "metadata": {
    "collapsed": false
   },
   "outputs": [
    {
     "name": "stdout",
     "output_type": "stream",
     "text": [
      "Ein Neutron will in eine Disko. Sagt der Türsteher: Tur mit leid nur für geladene Gäste\n",
      "hahahahahahahahahaha!!\n",
      "Kommt Helium in eine Bar und bestellt ein Bier.Sagt der Barkeeper: \"Tut mir Leid, aber wir bedienen hier keine Edelgase.\"Das Helium reagiert nicht.\n",
      "hehehehehehehehehehe!!\n"
     ]
    }
   ],
   "source": [
    "my_funny_function('Ein Neutron will in eine Disko. Sagt der Türsteher: Tur mit leid nur für geladene Gäste')\n",
    "my_funny_function('Kommt Helium in eine Bar und bestellt ein Bier.'\n",
    "                  'Sagt der Barkeeper: \"Tut mir Leid, aber wir bedienen hier keine Edelgase.\"'\n",
    "                  'Das Helium reagiert nicht.', optionalvariable='he')"
   ]
  },
  {
   "cell_type": "markdown",
   "metadata": {},
   "source": [
    "Usually we also return something, for example a string or value or list...\n",
    "In the following function we return a string.  \n",
    "It's also good practice to document what your function is doing.\n",
    "The place to do that is just below the function definition.  \n",
    "Use a string with three \"\" for documentation. You can write over several lines with this string.\n",
    "\n",
    "*attention*: the scope of variables that are defined within a function does not extend to the place outside a function.\n",
    "In particular, the variable we give as function argument ('word1') is local. It is **not** the same as the \"word1\" we defined outside."
   ]
  },
  {
   "cell_type": "code",
   "execution_count": 218,
   "metadata": {
    "collapsed": false
   },
   "outputs": [
    {
     "name": "stdout",
     "output_type": "stream",
     "text": [
      "106988576\n",
      "  hahaha HAAAAA !!!\n",
      "hoHOhoHO??   \n",
      "hohohoho\n"
     ]
    }
   ],
   "source": [
    "word1 = '  hahaha HAAAAA !!!'\n",
    "word2 = 'hoHOhoHO??   '\n",
    "word3 = 'huihui'\n",
    "print id(word1)\n",
    "\n",
    "def cleanword(word1):\n",
    "    \"\"\" function to clean strings. \n",
    "    \n",
    "    it removes weird characters, strips off whitespace \n",
    "    and sets all characters to lower case.\"\"\"  #  some documentation string to explain what the function does.\n",
    "    word1 = word1.strip()  \n",
    "    word1 = word1.lower()   \n",
    "    word1 = re.sub('[^a-z0-9 ]','', word1)\n",
    "    return word1\n",
    "\n",
    "word3 = cleanword(word2)\n",
    "print word1  # word1 was not changed. word1 in the function was a local variable\n",
    "print word2  # word2 was not changed.\n",
    "print word3  # word3 was set to the result of the function"
   ]
  },
  {
   "cell_type": "markdown",
   "metadata": {},
   "source": [
    "whenever Python sees a variable, it tries to understand if it was initiated or not. If it was not, it will throw an error.\n",
    "When it encounters a variable it will first see, if it was defined within the function. (this is also valid for other blocks like loops). If it does not find that the variable was initiated within the function, or as function argument, it will start to look the next level up. In this case outside the function.\n",
    "Here we use a variable within our function (word2) that was initiated before. It is not initiated within the function, nor is it an argument of the function. Python therefore assumes, that we want to use the variable that was defined outside the function. "
   ]
  },
  {
   "cell_type": "code",
   "execution_count": 122,
   "metadata": {
    "collapsed": false
   },
   "outputs": [
    {
     "name": "stdout",
     "output_type": "stream",
     "text": [
      "  hahaha HAAAAA !!!\n",
      "hoHOhoHO??   \n",
      "hohohoho\n"
     ]
    }
   ],
   "source": [
    "def cleanword():\n",
    "    \"\"\" function to clean strings. \n",
    "    \n",
    "    it removes weird characters, strips off whitespace \n",
    "    and sets all characters to lower case.\"\"\"  #  some documentation string to explain what the function does.\n",
    "  \n",
    "    word1 = word2.strip()  #word2 is a global variable\n",
    "    word1 = word1.lower()  #word1 is a local variable\n",
    "    word1 = re.sub('[^a-z0-9 ]','', word1)\n",
    "    return word1\n",
    "\n",
    "word3 = cleanword()\n",
    "print word1  # word1 was not changed. word1 in the function was a local variable\n",
    "print word2  # word2 was not changed.\n",
    "print word3  # word3 was changed to the result of the function"
   ]
  },
  {
   "cell_type": "markdown",
   "metadata": {},
   "source": [
    "here we set the variable word2 within the function. It therefore uses this definition first. Word2 is now a local variable that is only valid within the function and does not interfere with our definition of word2 outside the function."
   ]
  },
  {
   "cell_type": "code",
   "execution_count": 123,
   "metadata": {
    "collapsed": false
   },
   "outputs": [
    {
     "name": "stdout",
     "output_type": "stream",
     "text": [
      "  hahaha HAAAAA !!!\n",
      "hoHOhoHO??   \n",
      "hohohoho \n"
     ]
    }
   ],
   "source": [
    "def cleanword2():\n",
    "    word2 = ' hoHOhoHO ?'\n",
    "    word2 = word2.strip() #word2 is a local variable\n",
    "    word2 = word2.lower()  \n",
    "    word2 = re.sub('[\"!\\?\"]','', word2)\n",
    "    return word2\n",
    "\n",
    "word3 = cleanword2()\n",
    "print word1 # not changed.\n",
    "print word2 # not changed\n",
    "print word3 # result of function"
   ]
  },
  {
   "cell_type": "markdown",
   "metadata": {},
   "source": [
    "If we try to use our previously defined variable \"word2\" to initiate a locally defined variable \"word2\", this results in an error:  *local variable 'word2' referenced before assignment*\n",
    "word2 is now a local variable and independent of the variable word2 that was defined outside."
   ]
  },
  {
   "cell_type": "code",
   "execution_count": 124,
   "metadata": {
    "collapsed": false,
    "scrolled": true
   },
   "outputs": [
    {
     "ename": "UnboundLocalError",
     "evalue": "local variable 'word2' referenced before assignment",
     "output_type": "error",
     "traceback": [
      "\u001b[0;31m\u001b[0m",
      "\u001b[0;31mUnboundLocalError\u001b[0mTraceback (most recent call last)",
      "\u001b[0;32m<ipython-input-124-80c75fb12d60>\u001b[0m in \u001b[0;36m<module>\u001b[0;34m()\u001b[0m\n\u001b[1;32m      5\u001b[0m     \u001b[1;32mreturn\u001b[0m \u001b[0mword2\u001b[0m\u001b[1;33m\u001b[0m\u001b[0m\n\u001b[1;32m      6\u001b[0m \u001b[1;33m\u001b[0m\u001b[0m\n\u001b[0;32m----> 7\u001b[0;31m \u001b[0mword3\u001b[0m \u001b[1;33m=\u001b[0m \u001b[0mcleanword2\u001b[0m\u001b[1;33m(\u001b[0m\u001b[1;33m)\u001b[0m\u001b[1;33m\u001b[0m\u001b[0m\n\u001b[0m\u001b[1;32m      8\u001b[0m \u001b[1;32mprint\u001b[0m \u001b[0mword1\u001b[0m\u001b[1;33m\u001b[0m\u001b[0m\n\u001b[1;32m      9\u001b[0m \u001b[1;32mprint\u001b[0m \u001b[0mword2\u001b[0m\u001b[1;33m\u001b[0m\u001b[0m\n",
      "\u001b[0;32m<ipython-input-124-80c75fb12d60>\u001b[0m in \u001b[0;36mcleanword2\u001b[0;34m()\u001b[0m\n\u001b[1;32m      1\u001b[0m \u001b[1;32mdef\u001b[0m \u001b[0mcleanword2\u001b[0m\u001b[1;33m(\u001b[0m\u001b[1;33m)\u001b[0m\u001b[1;33m:\u001b[0m\u001b[1;33m\u001b[0m\u001b[0m\n\u001b[0;32m----> 2\u001b[0;31m     \u001b[0mword2\u001b[0m \u001b[1;33m=\u001b[0m \u001b[0mword2\u001b[0m\u001b[1;33m.\u001b[0m\u001b[0mstrip\u001b[0m\u001b[1;33m(\u001b[0m\u001b[1;33m)\u001b[0m \u001b[1;31m#word2 is a local variable. the local variable is not initiated. This results in an error.\u001b[0m\u001b[1;33m\u001b[0m\u001b[0m\n\u001b[0m\u001b[1;32m      3\u001b[0m     \u001b[0mword2\u001b[0m \u001b[1;33m=\u001b[0m \u001b[0mword2\u001b[0m\u001b[1;33m.\u001b[0m\u001b[0mlower\u001b[0m\u001b[1;33m(\u001b[0m\u001b[1;33m)\u001b[0m\u001b[1;33m\u001b[0m\u001b[0m\n\u001b[1;32m      4\u001b[0m     \u001b[0mword2\u001b[0m \u001b[1;33m=\u001b[0m \u001b[0mre\u001b[0m\u001b[1;33m.\u001b[0m\u001b[0msub\u001b[0m\u001b[1;33m(\u001b[0m\u001b[1;34m'[\"!\\?\"]'\u001b[0m\u001b[1;33m,\u001b[0m\u001b[1;34m''\u001b[0m\u001b[1;33m,\u001b[0m \u001b[0mword2\u001b[0m\u001b[1;33m)\u001b[0m\u001b[1;33m\u001b[0m\u001b[0m\n\u001b[1;32m      5\u001b[0m     \u001b[1;32mreturn\u001b[0m \u001b[0mword2\u001b[0m\u001b[1;33m\u001b[0m\u001b[0m\n",
      "\u001b[0;31mUnboundLocalError\u001b[0m: local variable 'word2' referenced before assignment"
     ]
    }
   ],
   "source": [
    "def cleanword2():\n",
    "    word2 = word2.strip() #word2 is a local variable. the local variable is not initiated. This results in an error.\n",
    "    word2 = word2.lower()  \n",
    "    word2 = re.sub('[\"!\\?\"]','', word2)\n",
    "    return word2\n",
    "\n",
    "word3 = cleanword2()\n",
    "print word1\n",
    "print word2\n",
    "print word3"
   ]
  },
  {
   "cell_type": "markdown",
   "metadata": {},
   "source": [
    "We can force python to use the variable word2 that was defined outside the function by telling it that now word2 is global.\n",
    "Now the variable in the function is the same as the word2 outside. We change word2 in our function."
   ]
  },
  {
   "cell_type": "code",
   "execution_count": 100,
   "metadata": {
    "collapsed": false
   },
   "outputs": [
    {
     "name": "stdout",
     "output_type": "stream",
     "text": [
      "  hAhAhA\n",
      "huuuuu\n",
      "huuuuu\n"
     ]
    }
   ],
   "source": [
    "def cleanword3():\n",
    "    global word2\n",
    "    word2 = word2.strip() # word2 is now a global variable\n",
    "    word2 = word2.lower()  \n",
    "    word2 = re.sub('[\"!\\?\"]','', word2)\n",
    "    return word2\n",
    "word3 = cleanword3()\n",
    "print word1  # not changed\n",
    "print word2  # changed in the function!! \n",
    "print word3  # result of function"
   ]
  },
  {
   "cell_type": "markdown",
   "metadata": {},
   "source": [
    "#### Exercise:\n",
    "1) write a function that takes a list as argument and returns a list with the values squared.  \n",
    "2) (optional) in the different function code above, check for several variables, if they are identical or not by printing the variable id."
   ]
  },
  {
   "cell_type": "code",
   "execution_count": null,
   "metadata": {
    "collapsed": false
   },
   "outputs": [],
   "source": []
  },
  {
   "cell_type": "markdown",
   "metadata": {},
   "source": [
    "## exercise\n",
    "\n",
    "In this exercise you will read in a text file line by line. Split each line into words, set the characters to lowercase and remove all none-letter symbols.\n",
    "Then we count how often each word appears in the text. \n",
    "\n",
    "#### 1) create a cleaning function\n",
    "\n",
    "the function takes a word (string) as input. It transforms it to lower case and filters out all unwanted symbols. Only keep a-zA-Z0-9 and whitespace. Tip: the right function is somewhere in the code above."
   ]
  },
  {
   "cell_type": "code",
   "execution_count": 104,
   "metadata": {
    "collapsed": true
   },
   "outputs": [],
   "source": []
  },
  {
   "cell_type": "markdown",
   "metadata": {},
   "source": [
    "#### 2) open a file, read in all words and count them\n",
    "open the file \"trump_inaugural_adr.txt\". \n",
    "create an empty dictionary \"mydict\".  \n",
    "Read in line by line. \n",
    "Split the lines into words, apply the cleaning function to the words  \n",
    "and then add them to a dictionary, counting their appearance. \n",
    "print out all keys and all values of the dictionary."
   ]
  },
  {
   "cell_type": "code",
   "execution_count": 222,
   "metadata": {
    "collapsed": false
   },
   "outputs": [],
   "source": [
    "with open(u'./trump_inaugural_adres.txt', 'r') as f: #trump speech, the raven, dearest creatures of creation.\n",
    "    pass"
   ]
  },
  {
   "cell_type": "code",
   "execution_count": null,
   "metadata": {
    "collapsed": false
   },
   "outputs": [],
   "source": []
  },
  {
   "cell_type": "markdown",
   "metadata": {},
   "source": [
    "#### 3) Print out the 15 most common words of the text. \n",
    "Use the sorted function for this. Here is an example:"
   ]
  },
  {
   "cell_type": "code",
   "execution_count": 129,
   "metadata": {
    "collapsed": false
   },
   "outputs": [
    {
     "name": "stdout",
     "output_type": "stream",
     "text": [
      "['anotherword', 'funnyword', 'niceword', 'word']\n",
      "[25, 8, 5, 3]\n",
      "['anotherword', 'funnyword', 'word', 'niceword']\n"
     ]
    }
   ],
   "source": [
    "exampledict = {'word': 5, 'anotherword': 25, 'niceword': 3, 'funnyword':8}\n",
    "print sorted(exampledict.keys())  # prints the keys sorted alphabetically, lowest first\n",
    "print sorted(exampledict.values(), reverse=True)  # prints the values, sorted numerically, largest first\n",
    "print sorted(exampledict, key=exampledict.__getitem__, reverse=True)  # prints the keys, sorted according to their numerical value"
   ]
  },
  {
   "cell_type": "code",
   "execution_count": null,
   "metadata": {
    "collapsed": true
   },
   "outputs": [],
   "source": []
  },
  {
   "cell_type": "markdown",
   "metadata": {},
   "source": [
    "#### 3) Find the frequency of words of length N\n",
    "Find out, how often words of a certain length appear in a text.   \n",
    "Example: for all words of length 4 sum their respective frequency of appearance in the text.\n",
    "\n",
    "step by step:    \n",
    "- create a new dictionary lengthdict\n",
    "- Loop over the keys in the old dictionary (mydict).\n",
    "- For each key of mydict, calculate its length, \"length\".\n",
    "- Use this length as key for your new dictionary.\n",
    "- test: If the key already exists in your new dictionary, add the value of the key of your old dictionary to the value in the new dictionary. Otherwise initiate the key with this value.\n",
    "\n",
    "Plot the frequency of word occurence against the word length."
   ]
  },
  {
   "cell_type": "code",
   "execution_count": 130,
   "metadata": {
    "collapsed": false
   },
   "outputs": [],
   "source": []
  },
  {
   "cell_type": "markdown",
   "metadata": {},
   "source": [
    "#### 4) plot the frequency of words against their length\n",
    "create a list x with the keys of your wordlength dictionary.\n",
    "create a list y with the values of your wordlength dictionary.\n",
    "Plot x against y.\n",
    "Here is an example for how to plot: "
   ]
  },
  {
   "cell_type": "code",
   "execution_count": 134,
   "metadata": {
    "collapsed": false
   },
   "outputs": [
    {
     "data": {
      "image/png": "[encoded data removed]",
      "text/plain": [
       "<matplotlib.figure.Figure at 0x808beb8>"
      ]
     },
     "metadata": {},
     "output_type": "display_data"
    }
   ],
   "source": [
    "#%pyplot inline\n",
    "x=[1,2,3,4,5]\n",
    "y=[3,5,4,6,2]\n",
    "\n",
    "import matplotlib.pyplot as plt\n",
    "plt.plot(x, y)\n",
    "plt.show()"
   ]
  }
 ],
 "metadata": {
  "kernelspec": {
   "display_name": "Python 2",
   "language": "python",
   "name": "python2"
  },
  "language_info": {
   "codemirror_mode": {
    "name": "ipython",
    "version": 2
   },
   "file_extension": ".py",
   "mimetype": "text/x-python",
   "name": "python",
   "nbconvert_exporter": "python",
   "pygments_lexer": "ipython2",
   "version": "2.7.13"
  }
 },
 "nbformat": 4,
 "nbformat_minor": 2
}
